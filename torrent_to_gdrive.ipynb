{
  "cells": [
    {
      "cell_type": "markdown",
      "metadata": {},
      "source": [
        "🚀 Torrent to Google Drive Downloader\n",
        "\n",
        "This notebook lets you download torrents directly to your Google Drive using **libtorrent**.\n",
        "\n",
        "**⚠️ Disclaimer:** Use this only for legal torrents. Downloading copyrighted material may be illegal in your country."
      ]
    },
    {
      "cell_type": "code",
      "execution_count": null,
      "metadata": {
        "id": "NM6C81eM5zKm"
      },
      "outputs": [],
      "source": [
        "!pip install libtorrent"
      ]
    },
    {
      "cell_type": "code",
      "execution_count": null,
      "metadata": {
        "id": "Li0DAtTg6GEf"
      },
      "outputs": [],
      "source": [
        "from google.colab import drive\n",
        "drive.mount('/content/drive')"
      ]
    },
    {
      "cell_type": "code",
      "execution_count": null,
      "metadata": {
        "id": "wPQHeLLJ6jVe"
      },
      "outputs": [],
      "source": [
        "import libtorrent as lt\n",
        "import time\n",
        "from IPython.display import display, clear_output\n",
        "\n",
        "# Create a torrent session\n",
        "ses = lt.session()\n",
        "ses.listen_on(6881, 6891)\n",
        "\n",
        "# --- PASTE YOUR INFO HERE ---\n",
        "#@title Torrent Downloader\n",
        "#@markdown Enter the Magnet Link and the path in your Google Drive to save the files.\n",
        "magnet_link = \"\" #@param {type:\"string\"}\n",
        "save_path = \"/content/drive/MyDrive/Torrents\" #@param {type:\"string\"}\n",
        "# ----------------------------\n",
        "\n",
        "# Add the torrent to the session\n",
        "params = {'save_path': save_path}\n",
        "handle = lt.add_magnet_uri(ses, magnet_link, params)\n",
        "\n",
        "print(f\"Starting download for: {handle.name()}\")\n",
        "\n",
        "# Main loop to display progress\n",
        "try:\n",
        "    while not handle.status().is_seeding:\n",
        "        s = handle.status()\n",
        "\n",
        "        state_str = [\n",
        "            'queued', 'checking', 'downloading metadata', 'downloading',\n",
        "            'finished', 'seeding', 'allocating', 'checking fastresume'\n",
        "        ]\n",
        "\n",
        "        clear_output(wait=True)\n",
        "\n",
        "        # Format and display the progress\n",
        "        print(f\"Name: {handle.name()}\")\n",
        "        print(f\"State: {state_str[s.state]}\")\n",
        "        print(f\"Progress: {s.progress * 100:.2f}%\")\n",
        "        print(f\"Download Speed: {s.download_rate / 1000:.2f} KB/s\")\n",
        "        print(f\"Upload Speed: {s.upload_rate / 1000:.2f} KB/s\")\n",
        "        print(f\"Peers: {s.num_peers}\")\n",
        "\n",
        "        time.sleep(1)\n",
        "\n",
        "except KeyboardInterrupt:\n",
        "    print(\"\\nStopping download.\")\n",
        "\n",
        "print(\"\\n✅ Download complete! The files are in your Google Drive.\")\n",
        "print(f\"Path: {save_path}\")"
      ]
    }
  ],
  "metadata": {
    "colab": {
      "provenance": []
    },
    "kernelspec": {
      "display_name": "Python 3",
      "name": "python3"
    },
    "language_info": {
      "name": "python"
    }
  },
  "nbformat": 4,
  "nbformat_minor": 0
}
